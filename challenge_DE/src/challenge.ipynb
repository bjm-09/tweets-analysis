{
 "cells": [
  {
   "cell_type": "markdown",
   "metadata": {},
   "source": [
    "En este archivo puedes escribir lo que estimes conveniente. Te recomendamos detallar tu solución y todas las suposiciones que estás considerando. Aquí puedes ejecutar las funciones que definiste en los otros archivos de la carpeta src, medir el tiempo, memoria, etc."
   ]
  },
  {
   "cell_type": "code",
   "execution_count": 53,
   "metadata": {},
   "outputs": [],
   "source": [
    "from q1_memory import q1_memory\n",
    "from q1_time import q1_time\n",
    "from q2_time import q2_time\n",
    "from q2_memory import q2_memory\n",
    "from q3_time import q3_time \n",
    "from q3_memory import q3_memory\n",
    "\n",
    "file_path = \"../../data/farmers-protest-tweets-2021-2-4.json\""
   ]
  },
  {
   "cell_type": "markdown",
   "metadata": {},
   "source": [
    "## Outputs"
   ]
  },
  {
   "cell_type": "code",
   "execution_count": 60,
   "metadata": {},
   "outputs": [
    {
     "name": "stdout",
     "output_type": "stream",
     "text": [
      "Q1 Memory\n",
      "[(datetime.date(2021, 2, 12), 'RanbirS00614606'), (datetime.date(2021, 2, 13), 'MaanDee08215437'), (datetime.date(2021, 2, 17), 'RaaJVinderkaur'), (datetime.date(2021, 2, 16), 'jot__b'), (datetime.date(2021, 2, 14), 'rebelpacifist'), (datetime.date(2021, 2, 18), 'neetuanjle_nitu'), (datetime.date(2021, 2, 15), 'jot__b'), (datetime.date(2021, 2, 20), 'MangalJ23056160'), (datetime.date(2021, 2, 23), 'Surrypuria'), (datetime.date(2021, 2, 19), 'Preetm91')] \n",
      "\n",
      "Q1 Time\n",
      "[(datetime.date(2021, 2, 12), 'RanbirS00614606'), (datetime.date(2021, 2, 13), 'MaanDee08215437'), (datetime.date(2021, 2, 17), 'RaaJVinderkaur'), (datetime.date(2021, 2, 16), 'jot__b'), (datetime.date(2021, 2, 14), 'rebelpacifist'), (datetime.date(2021, 2, 18), 'neetuanjle_nitu'), (datetime.date(2021, 2, 15), 'jot__b'), (datetime.date(2021, 2, 20), 'MangalJ23056160'), (datetime.date(2021, 2, 23), 'Surrypuria'), (datetime.date(2021, 2, 19), 'Preetm91')] \n",
      "\n",
      "Q2 Memory\n",
      "[('🙏', 7286), ('😂', 3072), ('🚜', 2972), ('✊', 2411), ('🌾', 2363), ('🏻', 2080), ('❤', 1779), ('🤣', 1668), ('🏽', 1218), ('👇', 1108)] \n",
      "\n",
      "Q2 Time\n",
      "[('🙏', 7286), ('😂', 3072), ('🚜', 2972), ('✊', 2411), ('🌾', 2363), ('🏻', 2080), ('❤', 1779), ('🤣', 1668), ('🏽', 1218), ('👇', 1108)] \n",
      "\n",
      "Q3 Memory\n",
      "None \n",
      "\n",
      "Q3 Time\n",
      "[('narendramodi', 2201), ('Kisanektamorcha', 1822), ('RakeshTikaitBKU', 1599), ('PMOIndia', 1387), ('RahulGandhi', 1093), ('RaviSinghKA', 1002), ('GretaThunberg', 999), ('UNHumanRights', 956), ('rihanna', 944), ('meenaharris', 911)]\n"
     ]
    }
   ],
   "source": [
    "print(\"Q1 Memory\")\n",
    "print(q1_memory(file_path=file_path),'\\n')\n",
    "print(\"Q1 Time\")\n",
    "print(q1_time(file_path=file_path),'\\n')\n",
    "print(\"Q2 Memory\")\n",
    "print(q2_memory(file_path=file_path),'\\n')\n",
    "print(\"Q2 Time\")\n",
    "print(q2_time(file_path=file_path),'\\n')\n",
    "print(\"Q3 Memory\")\n",
    "print(q3_memory(file_path=file_path),'\\n')\n",
    "# For some reason this function is returning None when called it from the notebook.\n",
    "## It works if ran separately. Shown in next cell\n",
    "print(\"Q3 Time\")\n",
    "print(q3_time(file_path=file_path)) "
   ]
  },
  {
   "cell_type": "code",
   "execution_count": 61,
   "metadata": {},
   "outputs": [
    {
     "name": "stdout",
     "output_type": "stream",
     "text": [
      "Q3 Memory\n",
      "[('narendramodi', 2201), ('Kisanektamorcha', 1822), ('RakeshTikaitBKU', 1599), ('PMOIndia', 1387), ('RahulGandhi', 1093), ('RaviSinghKA', 1002), ('GretaThunberg', 999), ('UNHumanRights', 956), ('rihanna', 944), ('meenaharris', 911)]\n"
     ]
    }
   ],
   "source": [
    "print(\"Q3 Memory\")\n",
    "!python3 q3_memory.py"
   ]
  },
  {
   "cell_type": "markdown",
   "metadata": {},
   "source": [
    "# Memory usage analysis"
   ]
  },
  {
   "cell_type": "code",
   "execution_count": 44,
   "metadata": {},
   "outputs": [
    {
     "name": "stdout",
     "output_type": "stream",
     "text": [
      "mprof: Sampling memory every 0.1s\n",
      "running new process\n",
      "running as a Python program...\n",
      "Filename: ./q1_time.py\n",
      "\n",
      "Line #    Mem usage    Increment  Occurrences   Line Contents\n",
      "=============================================================\n",
      "     7     48.1 MiB     48.1 MiB           1   @profile\n",
      "     8                                         def q1_time(file_path: str) -> List[Tuple[datetime.date, str]]:\n",
      "     9                                         \n",
      "    10                                             # Using a defaultdict we will have constant-time complexity when we insert values and perform lookups\n",
      "    11     49.0 MiB   -150.9 MiB          27       agg_dict = defaultdict(lambda: defaultdict(int))\n",
      "    12                                         \n",
      "    13                                             # Open json file with tweets data to loop through every record\n",
      "    14     48.1 MiB      0.0 MiB           1       try:\n",
      "    15     48.1 MiB     -6.3 MiB           2           with open(file_path, 'r') as file:\n",
      "    16     49.0 MiB -782282.3 MiB      117408               for line in file:\n",
      "    17     49.0 MiB -782274.6 MiB      117407                   tweet = json.loads(line)\n",
      "    18                                                         \n",
      "    19                                                         # We are interested only on dates, not datetimes so we create a key for every date\n",
      "    20                                                         # We also create a key with every date-key with the username, as we need to keep track of how many tweets each user has\n",
      "    21     49.0 MiB -782275.6 MiB      117407                   try:\n",
      "    22     49.0 MiB -782281.1 MiB      117407                       date = datetime.strptime(tweet['date'], '%Y-%m-%dT%H:%M:%S+00:00').date()\n",
      "    23                                         \n",
      "    24                                                         except ValueError as e:\n",
      "    25                                                             print(f\"Error parsing date for tweet: {e}\")\n",
      "    26                                                             continue  # Skip this record and continue to the next one\n",
      "    27                                         \n",
      "    28     49.0 MiB -782282.0 MiB      117407                   username = tweet['user']['username']\n",
      "    29     49.0 MiB -782281.1 MiB      117407                   agg_dict[date][username] += 1\n",
      "    30                                                 \n",
      "    31                                                 # Sort our dictionary by the total tweets, in descending order\n",
      "    32                                                 ## We sort the values only once, at the end\n",
      "    33     42.8 MiB     -5.4 MiB          27           top_10_dates = sorted(agg_dict.items(), key=lambda x: sum(x[1].values()), reverse=True)[:10]\n",
      "    34                                         \n",
      "    35                                                 # Previous step left us only with the 10 dates with most tweets\n",
      "    36                                                 ## Now we need to get the user with most tweets from each date to match the expected output\n",
      "    37     42.8 MiB      0.1 MiB          13           return [(date, max(users, key=users.get)) for date, users in top_10_dates]\n",
      "    38                                         \n",
      "    39                                             except FileNotFoundError as e:\n",
      "    40                                                 return(f\"File not found: {e}\")\n",
      "\n",
      "\n"
     ]
    }
   ],
   "source": [
    "!mprof run ./q1_time.py "
   ]
  },
  {
   "cell_type": "code",
   "execution_count": 45,
   "metadata": {},
   "outputs": [
    {
     "name": "stdout",
     "output_type": "stream",
     "text": [
      "mprof: Sampling memory every 0.1s\n",
      "running new process\n",
      "running as a Python program...\n",
      "Filename: ./q1_memory.py\n",
      "\n",
      "Line #    Mem usage    Increment  Occurrences   Line Contents\n",
      "=============================================================\n",
      "    15     48.9 MiB     48.9 MiB           1   @profile\n",
      "    16                                         def q1_memory(file_path: str) -> List[Tuple[datetime.date, str]]:\n",
      "    17     49.9 MiB   -336.8 MiB          27       agg_dict = defaultdict(lambda: defaultdict(int))\n",
      "    18                                         \n",
      "    19     48.9 MiB    -17.1 MiB           2       with open(file_path, 'r') as file:\n",
      "    20     50.1 MiB -1779110.5 MiB      117408           for line in file:\n",
      "    21                                                     # Process each line (tweet) individually\n",
      "    22     50.1 MiB -1779095.0 MiB      117407               try:\n",
      "    23     50.1 MiB -1779095.8 MiB      117407                   tweet = json.loads(line)\n",
      "    24     50.1 MiB -1779106.6 MiB      117407                   date = datetime.strptime(tweet['date'], '%Y-%m-%dT%H:%M:%S+00:00').date()\n",
      "    25     50.1 MiB -1779107.8 MiB      117407                   username = tweet['user']['username']\n",
      "    26     50.1 MiB -1779104.8 MiB      117407                   agg_dict[date][username] += 1\n",
      "    27                                                     except (ValueError, KeyError) as e:\n",
      "    28                                                         print(f\"Error processing tweet: {e}\")\n",
      "    29                                                         continue  # Skip this record and continue to the next one\n",
      "    30                                         \n",
      "    31                                             # Sort our dictionary by the total tweets, in descending order\n",
      "    32                                             ## We sort the values only once, at the end\n",
      "    33     33.2 MiB    -15.7 MiB          27       top_10_dates = sorted(agg_dict.items(), key=lambda x: sum(x[1].values()), reverse=True)[:10]\n",
      "    34                                         \n",
      "    35                                             # Previous step left us only with the 10 dates with most tweets\n",
      "    36                                             ## Now we need to get the user with most tweets from each date to match the expected output\n",
      "    37     33.8 MiB      0.7 MiB          13       return [(date, max(users, key=users.get)) for date, users in top_10_dates]\n",
      "\n",
      "\n"
     ]
    }
   ],
   "source": [
    "!mprof run ./q1_memory.py \n",
    "\n"
   ]
  },
  {
   "cell_type": "code",
   "execution_count": 10,
   "metadata": {},
   "outputs": [
    {
     "data": {
      "text/plain": [
       "[('🙏', 7286),\n",
       " ('😂', 3072),\n",
       " ('🚜', 2972),\n",
       " ('✊', 2411),\n",
       " ('🌾', 2363),\n",
       " ('🏻', 2080),\n",
       " ('❤', 1779),\n",
       " ('🤣', 1668),\n",
       " ('🏽', 1218),\n",
       " ('👇', 1108)]"
      ]
     },
     "execution_count": 10,
     "metadata": {},
     "output_type": "execute_result"
    }
   ],
   "source": [
    "q2_time(file_path=file_path)"
   ]
  },
  {
   "cell_type": "code",
   "execution_count": 11,
   "metadata": {},
   "outputs": [
    {
     "data": {
      "text/plain": [
       "[('🙏', 7286),\n",
       " ('😂', 3072),\n",
       " ('🚜', 2972),\n",
       " ('✊', 2411),\n",
       " ('🌾', 2363),\n",
       " ('🏻', 2080),\n",
       " ('❤', 1779),\n",
       " ('🤣', 1668),\n",
       " ('🏽', 1218),\n",
       " ('👇', 1108)]"
      ]
     },
     "execution_count": 11,
     "metadata": {},
     "output_type": "execute_result"
    }
   ],
   "source": [
    "q2_memory(file_path)"
   ]
  },
  {
   "cell_type": "code",
   "execution_count": 12,
   "metadata": {},
   "outputs": [
    {
     "data": {
      "text/plain": [
       "[('narendramodi', 2201),\n",
       " ('Kisanektamorcha', 1822),\n",
       " ('RakeshTikaitBKU', 1599),\n",
       " ('PMOIndia', 1387),\n",
       " ('RahulGandhi', 1093),\n",
       " ('RaviSinghKA', 1002),\n",
       " ('GretaThunberg', 999),\n",
       " ('UNHumanRights', 956),\n",
       " ('rihanna', 944),\n",
       " ('meenaharris', 911)]"
      ]
     },
     "execution_count": 12,
     "metadata": {},
     "output_type": "execute_result"
    }
   ],
   "source": [
    "q3_time(file_path=file_path)"
   ]
  }
 ],
 "metadata": {
  "kernelspec": {
   "display_name": "venv",
   "language": "python",
   "name": "python3"
  },
  "language_info": {
   "codemirror_mode": {
    "name": "ipython",
    "version": 3
   },
   "file_extension": ".py",
   "mimetype": "text/x-python",
   "name": "python",
   "nbconvert_exporter": "python",
   "pygments_lexer": "ipython3",
   "version": "3.11.6"
  },
  "orig_nbformat": 4
 },
 "nbformat": 4,
 "nbformat_minor": 2
}
